{
 "cells": [
  {
   "cell_type": "code",
   "id": "initial_id",
   "metadata": {
    "collapsed": true,
    "ExecuteTime": {
     "end_time": "2024-08-20T12:06:19.126387Z",
     "start_time": "2024-08-20T12:06:17.334234Z"
    }
   },
   "source": "from util.db.mysql_util import MysqlUtil",
   "outputs": [],
   "execution_count": 1
  },
  {
   "metadata": {
    "ExecuteTime": {
     "end_time": "2024-08-20T12:06:19.969232Z",
     "start_time": "2024-08-20T12:06:19.175502Z"
    }
   },
   "cell_type": "code",
   "source": "mysql_util = MysqlUtil(\"book_store\")",
   "id": "7b44958d7dc1c47e",
   "outputs": [],
   "execution_count": 2
  },
  {
   "metadata": {
    "ExecuteTime": {
     "end_time": "2024-08-20T12:06:20.292176Z",
     "start_time": "2024-08-20T12:06:20.183705Z"
    }
   },
   "cell_type": "code",
   "source": "mysql_util.dataframe_from_mysql(\"user\")",
   "id": "43cc40b5718f3d75",
   "outputs": [
    {
     "data": {
      "text/plain": [
       "   user_id                email                          password  \\\n",
       "0        1  twcch1218@gmail.com  e10adc3949ba59abbe56e057f20f883e   \n",
       "1        2       test@gmail.com  e10adc3949ba59abbe56e057f20f883e   \n",
       "2        3      test1@gmail.com  e10adc3949ba59abbe56e057f20f883e   \n",
       "3        4      test2@gmail.com  e10adc3949ba59abbe56e057f20f883e   \n",
       "4        5      test3@gmail.com  e10adc3949ba59abbe56e057f20f883e   \n",
       "5        6      test4@gmail.com  e10adc3949ba59abbe56e057f20f883e   \n",
       "\n",
       "         created_date  last_modified_date  \n",
       "0 2024-05-26 20:20:22 2024-05-26 20:20:22  \n",
       "1 2024-05-26 21:51:44 2024-05-26 21:51:44  \n",
       "2 2024-05-29 20:15:17 2024-05-29 20:15:17  \n",
       "3 2024-05-29 20:15:24 2024-05-29 20:15:24  \n",
       "4 2024-05-29 20:15:40 2024-05-29 20:15:40  \n",
       "5 2024-05-29 20:15:54 2024-05-29 20:15:54  "
      ],
      "text/html": [
       "<div>\n",
       "<style scoped>\n",
       "    .dataframe tbody tr th:only-of-type {\n",
       "        vertical-align: middle;\n",
       "    }\n",
       "\n",
       "    .dataframe tbody tr th {\n",
       "        vertical-align: top;\n",
       "    }\n",
       "\n",
       "    .dataframe thead th {\n",
       "        text-align: right;\n",
       "    }\n",
       "</style>\n",
       "<table border=\"1\" class=\"dataframe\">\n",
       "  <thead>\n",
       "    <tr style=\"text-align: right;\">\n",
       "      <th></th>\n",
       "      <th>user_id</th>\n",
       "      <th>email</th>\n",
       "      <th>password</th>\n",
       "      <th>created_date</th>\n",
       "      <th>last_modified_date</th>\n",
       "    </tr>\n",
       "  </thead>\n",
       "  <tbody>\n",
       "    <tr>\n",
       "      <th>0</th>\n",
       "      <td>1</td>\n",
       "      <td>twcch1218@gmail.com</td>\n",
       "      <td>e10adc3949ba59abbe56e057f20f883e</td>\n",
       "      <td>2024-05-26 20:20:22</td>\n",
       "      <td>2024-05-26 20:20:22</td>\n",
       "    </tr>\n",
       "    <tr>\n",
       "      <th>1</th>\n",
       "      <td>2</td>\n",
       "      <td>test@gmail.com</td>\n",
       "      <td>e10adc3949ba59abbe56e057f20f883e</td>\n",
       "      <td>2024-05-26 21:51:44</td>\n",
       "      <td>2024-05-26 21:51:44</td>\n",
       "    </tr>\n",
       "    <tr>\n",
       "      <th>2</th>\n",
       "      <td>3</td>\n",
       "      <td>test1@gmail.com</td>\n",
       "      <td>e10adc3949ba59abbe56e057f20f883e</td>\n",
       "      <td>2024-05-29 20:15:17</td>\n",
       "      <td>2024-05-29 20:15:17</td>\n",
       "    </tr>\n",
       "    <tr>\n",
       "      <th>3</th>\n",
       "      <td>4</td>\n",
       "      <td>test2@gmail.com</td>\n",
       "      <td>e10adc3949ba59abbe56e057f20f883e</td>\n",
       "      <td>2024-05-29 20:15:24</td>\n",
       "      <td>2024-05-29 20:15:24</td>\n",
       "    </tr>\n",
       "    <tr>\n",
       "      <th>4</th>\n",
       "      <td>5</td>\n",
       "      <td>test3@gmail.com</td>\n",
       "      <td>e10adc3949ba59abbe56e057f20f883e</td>\n",
       "      <td>2024-05-29 20:15:40</td>\n",
       "      <td>2024-05-29 20:15:40</td>\n",
       "    </tr>\n",
       "    <tr>\n",
       "      <th>5</th>\n",
       "      <td>6</td>\n",
       "      <td>test4@gmail.com</td>\n",
       "      <td>e10adc3949ba59abbe56e057f20f883e</td>\n",
       "      <td>2024-05-29 20:15:54</td>\n",
       "      <td>2024-05-29 20:15:54</td>\n",
       "    </tr>\n",
       "  </tbody>\n",
       "</table>\n",
       "</div>"
      ]
     },
     "execution_count": 3,
     "metadata": {},
     "output_type": "execute_result"
    }
   ],
   "execution_count": 3
  },
  {
   "metadata": {
    "ExecuteTime": {
     "end_time": "2024-08-20T12:06:20.406840Z",
     "start_time": "2024-08-20T12:06:20.403218Z"
    }
   },
   "cell_type": "code",
   "source": "",
   "id": "427b2a937aea5ba6",
   "outputs": [],
   "execution_count": null
  }
 ],
 "metadata": {
  "kernelspec": {
   "display_name": "Python 3",
   "language": "python",
   "name": "python3"
  },
  "language_info": {
   "codemirror_mode": {
    "name": "ipython",
    "version": 2
   },
   "file_extension": ".py",
   "mimetype": "text/x-python",
   "name": "python",
   "nbconvert_exporter": "python",
   "pygments_lexer": "ipython2",
   "version": "2.7.6"
  }
 },
 "nbformat": 4,
 "nbformat_minor": 5
}
