{
 "cells": [
  {
   "cell_type": "code",
   "id": "initial_id",
   "metadata": {
    "collapsed": true,
    "ExecuteTime": {
     "end_time": "2024-08-20T12:06:32.594270Z",
     "start_time": "2024-08-20T12:06:31.640209Z"
    }
   },
   "source": "from core.util.db.postgres_util import PostgresUtil",
   "outputs": [],
   "execution_count": 1
  },
  {
   "metadata": {
    "ExecuteTime": {
     "end_time": "2024-08-20T12:06:32.813849Z",
     "start_time": "2024-08-20T12:06:32.598575Z"
    }
   },
   "cell_type": "code",
   "source": "postgres_util = PostgresUtil(\"postgres_test\")",
   "id": "9eeebb7dece27830",
   "outputs": [],
   "execution_count": 2
  },
  {
   "metadata": {
    "ExecuteTime": {
     "end_time": "2024-08-20T12:06:33.268027Z",
     "start_time": "2024-08-20T12:06:32.948161Z"
    }
   },
   "cell_type": "code",
   "source": "postgres_util.dataframe_from_postgres(\"users\")",
   "id": "a3f685b387a869a",
   "outputs": [
    {
     "data": {
      "text/plain": [
       "   user_id username                          password           email  gender  \\\n",
       "0        5    test5  e10adc3949ba59abbe56e057f20f883e  test5@test.com    Male   \n",
       "1        6    test6  e10adc3949ba59abbe56e057f20f883e  test6@test.com    Male   \n",
       "2        7    test7  e10adc3949ba59abbe56e057f20f883e  test7@test.com    Male   \n",
       "3        2    test2                               132  test2@test.com  Female   \n",
       "4        3    test3                               132  test3@test.com    Male   \n",
       "5        4  user999  e10adc3949ba59abbe56e057f20f883e  test4@test.com    Male   \n",
       "\n",
       "             created_date      last_modified_date  \n",
       "0 2024-08-03 18:46:02.758 2024-08-03 18:46:02.758  \n",
       "1 2024-08-03 18:46:08.057 2024-08-03 18:46:08.057  \n",
       "2 2024-08-03 18:50:14.292 2024-08-03 18:50:14.292  \n",
       "3 2024-08-03 18:45:34.683 2024-08-03 19:31:23.926  \n",
       "4 2024-08-03 18:45:51.171 2024-08-03 19:32:55.404  \n",
       "5 2024-08-03 18:45:56.903 2024-08-03 18:45:56.903  "
      ],
      "text/html": [
       "<div>\n",
       "<style scoped>\n",
       "    .dataframe tbody tr th:only-of-type {\n",
       "        vertical-align: middle;\n",
       "    }\n",
       "\n",
       "    .dataframe tbody tr th {\n",
       "        vertical-align: top;\n",
       "    }\n",
       "\n",
       "    .dataframe thead th {\n",
       "        text-align: right;\n",
       "    }\n",
       "</style>\n",
       "<table border=\"1\" class=\"dataframe\">\n",
       "  <thead>\n",
       "    <tr style=\"text-align: right;\">\n",
       "      <th></th>\n",
       "      <th>user_id</th>\n",
       "      <th>username</th>\n",
       "      <th>password</th>\n",
       "      <th>email</th>\n",
       "      <th>gender</th>\n",
       "      <th>created_date</th>\n",
       "      <th>last_modified_date</th>\n",
       "    </tr>\n",
       "  </thead>\n",
       "  <tbody>\n",
       "    <tr>\n",
       "      <th>0</th>\n",
       "      <td>5</td>\n",
       "      <td>test5</td>\n",
       "      <td>e10adc3949ba59abbe56e057f20f883e</td>\n",
       "      <td>test5@test.com</td>\n",
       "      <td>Male</td>\n",
       "      <td>2024-08-03 18:46:02.758</td>\n",
       "      <td>2024-08-03 18:46:02.758</td>\n",
       "    </tr>\n",
       "    <tr>\n",
       "      <th>1</th>\n",
       "      <td>6</td>\n",
       "      <td>test6</td>\n",
       "      <td>e10adc3949ba59abbe56e057f20f883e</td>\n",
       "      <td>test6@test.com</td>\n",
       "      <td>Male</td>\n",
       "      <td>2024-08-03 18:46:08.057</td>\n",
       "      <td>2024-08-03 18:46:08.057</td>\n",
       "    </tr>\n",
       "    <tr>\n",
       "      <th>2</th>\n",
       "      <td>7</td>\n",
       "      <td>test7</td>\n",
       "      <td>e10adc3949ba59abbe56e057f20f883e</td>\n",
       "      <td>test7@test.com</td>\n",
       "      <td>Male</td>\n",
       "      <td>2024-08-03 18:50:14.292</td>\n",
       "      <td>2024-08-03 18:50:14.292</td>\n",
       "    </tr>\n",
       "    <tr>\n",
       "      <th>3</th>\n",
       "      <td>2</td>\n",
       "      <td>test2</td>\n",
       "      <td>132</td>\n",
       "      <td>test2@test.com</td>\n",
       "      <td>Female</td>\n",
       "      <td>2024-08-03 18:45:34.683</td>\n",
       "      <td>2024-08-03 19:31:23.926</td>\n",
       "    </tr>\n",
       "    <tr>\n",
       "      <th>4</th>\n",
       "      <td>3</td>\n",
       "      <td>test3</td>\n",
       "      <td>132</td>\n",
       "      <td>test3@test.com</td>\n",
       "      <td>Male</td>\n",
       "      <td>2024-08-03 18:45:51.171</td>\n",
       "      <td>2024-08-03 19:32:55.404</td>\n",
       "    </tr>\n",
       "    <tr>\n",
       "      <th>5</th>\n",
       "      <td>4</td>\n",
       "      <td>user999</td>\n",
       "      <td>e10adc3949ba59abbe56e057f20f883e</td>\n",
       "      <td>test4@test.com</td>\n",
       "      <td>Male</td>\n",
       "      <td>2024-08-03 18:45:56.903</td>\n",
       "      <td>2024-08-03 18:45:56.903</td>\n",
       "    </tr>\n",
       "  </tbody>\n",
       "</table>\n",
       "</div>"
      ]
     },
     "execution_count": 3,
     "metadata": {},
     "output_type": "execute_result"
    }
   ],
   "execution_count": 3
  },
  {
   "metadata": {
    "ExecuteTime": {
     "end_time": "2024-08-20T12:06:33.360959Z",
     "start_time": "2024-08-20T12:06:33.357282Z"
    }
   },
   "cell_type": "code",
   "source": "",
   "id": "23ee406e2e67a38",
   "outputs": [],
   "execution_count": null
  }
 ],
 "metadata": {
  "kernelspec": {
   "display_name": "Python 3",
   "language": "python",
   "name": "python3"
  },
  "language_info": {
   "codemirror_mode": {
    "name": "ipython",
    "version": 2
   },
   "file_extension": ".py",
   "mimetype": "text/x-python",
   "name": "python",
   "nbconvert_exporter": "python",
   "pygments_lexer": "ipython2",
   "version": "2.7.6"
  }
 },
 "nbformat": 4,
 "nbformat_minor": 5
}
