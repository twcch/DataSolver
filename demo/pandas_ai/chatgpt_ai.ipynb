{
 "cells": [
  {
   "metadata": {
    "ExecuteTime": {
     "end_time": "2024-09-06T12:42:17.140327Z",
     "start_time": "2024-09-06T12:42:12.702353Z"
    }
   },
   "cell_type": "code",
   "source": [
    "import os\n",
    "import pandas as pd\n",
    "from pandasai import Agent\n",
    "from pandasai.llm import OpenAI\n",
    "\n",
    "from util.key_util import KeyUtil\n",
    "\n",
    "key_util = KeyUtil()\n",
    "api_key = key_util.get_chatgpt_api_key()\n",
    "\n",
    "os.environ[\"OPENAI_API_KEY\"] = api_key\n",
    "llm = OpenAI(api_token=os.environ[\"OPENAI_API_KEY\"])"
   ],
   "id": "9064b258fcffb7",
   "outputs": [],
   "execution_count": 1
  },
  {
   "metadata": {
    "ExecuteTime": {
     "end_time": "2024-09-06T12:42:17.160775Z",
     "start_time": "2024-09-06T12:42:17.156781Z"
    }
   },
   "cell_type": "code",
   "source": [
    "sales_by_country = pd.DataFrame({\n",
    "    \"country\": [\"United States\", \"United Kingdom\", \"France\", \"Germany\", \"Italy\", \"Spain\", \"Taiwan\", \"Japan\", \"China\", \"Korea\"],\n",
    "    \"sales\": [5000, 3200, 2900, 4100, 2300, 2100, 2500, 2600, 4500, 7000]\n",
    "})"
   ],
   "id": "44f1a87808cb486f",
   "outputs": [],
   "execution_count": 2
  },
  {
   "metadata": {
    "ExecuteTime": {
     "end_time": "2024-09-06T12:42:23.532181Z",
     "start_time": "2024-09-06T12:42:17.177537Z"
    }
   },
   "cell_type": "code",
   "source": [
    "agent = Agent(sales_by_country, \n",
    "              description=\"DataFrame 是國家銷售額的資料\", \n",
    "              config={\"llm\": llm})\n",
    "\n",
    "query = \"找出銷售最高的國家？\"\n",
    "response = agent.chat(query)\n",
    "\n",
    "query_2 = \"請告訴我第二高的國家是？\"\n",
    "response_2 = agent.chat(query_2)\n",
    "\n",
    "query_3 = \"請告訴我第三高的國家是？\"\n",
    "response_3 = agent.chat(query_3)\n",
    "\n",
    "print(response_3)"
   ],
   "id": "bbd4381b5c634f52",
   "outputs": [
    {
     "name": "stdout",
     "output_type": "stream",
     "text": [
      "{'type': 'string', 'value': 'The second highest country is United States with sales of 5000.'}\n",
      "{'type': 'string', 'value': 'The third highest country is China.'}\n",
      "The third highest country is China.\n"
     ]
    }
   ],
   "execution_count": 3
  },
  {
   "metadata": {
    "ExecuteTime": {
     "end_time": "2024-09-06T12:42:23.602240Z",
     "start_time": "2024-09-06T12:42:23.601158Z"
    }
   },
   "cell_type": "code",
   "source": "",
   "id": "e510f38f50185b69",
   "outputs": [],
   "execution_count": null
  }
 ],
 "metadata": {
  "kernelspec": {
   "display_name": "Python 3",
   "language": "python",
   "name": "python3"
  },
  "language_info": {
   "codemirror_mode": {
    "name": "ipython",
    "version": 2
   },
   "file_extension": ".py",
   "mimetype": "text/x-python",
   "name": "python",
   "nbconvert_exporter": "python",
   "pygments_lexer": "ipython2",
   "version": "2.7.6"
  }
 },
 "nbformat": 4,
 "nbformat_minor": 5
}
